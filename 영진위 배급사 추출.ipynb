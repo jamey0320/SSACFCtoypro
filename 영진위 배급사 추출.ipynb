{
 "cells": [
  {
   "cell_type": "code",
   "execution_count": 10,
   "metadata": {},
   "outputs": [],
   "source": [
    "import requests\n",
    "import time\n",
    "import os\n",
    "import pandas as pd\n",
    "from pandas import DataFrame\n",
    "\n",
    "key = \"2833ab9d3fb229573f76e13d57eda9fa\""
   ]
  },
  {
   "cell_type": "code",
   "execution_count": 11,
   "metadata": {},
   "outputs": [],
   "source": [
    "list1 = DataFrame()\n",
    "list_all = DataFrame()\n",
    "for path in os.listdir('흥행작new/'):\n",
    "    list1 = pd.read_csv(f\"흥행작new/{path}\", index_col='Unnamed: 0')\n",
    "    list_all = list_all.append(list1)"
   ]
  },
  {
   "cell_type": "code",
   "execution_count": 16,
   "metadata": {},
   "outputs": [],
   "source": [
    "코드list = list(list_all['코드'])"
   ]
  },
  {
   "cell_type": "code",
   "execution_count": 17,
   "metadata": {},
   "outputs": [],
   "source": [
    "url = \"http://www.kobis.or.kr/kobisopenapi/webservice/rest/movie/searchMovieInfo.json\"\n",
    "배급사list = DataFrame()\n",
    "\n",
    "def scrap():\n",
    "    global 배급사list\n",
    "    for i in 코드list:\n",
    "        params = {\n",
    "            \"key\": key,\n",
    "            \"movieCd\" : i\n",
    "        }\n",
    "    \n",
    "        resp = requests.get(url, params=params)\n",
    "        data = resp.json()\n",
    "    \n",
    "        df = DataFrame(data['movieInfoResult'])\n",
    "        df = df.loc[:,'movieInfo']\n",
    "        df = df.transpose()\n",
    "    \n",
    "        배급사list = 배급사list.append(df)"
   ]
  },
  {
   "cell_type": "code",
   "execution_count": 18,
   "metadata": {},
   "outputs": [],
   "source": [
    "scrap()"
   ]
  },
  {
   "cell_type": "code",
   "execution_count": 20,
   "metadata": {},
   "outputs": [],
   "source": [
    "배급사list.to_csv('흥행10걸배급사.csv', encoding=\"cp949\")"
   ]
  }
 ],
 "metadata": {
  "kernelspec": {
   "display_name": "Python 3",
   "language": "python",
   "name": "python3"
  },
  "language_info": {
   "codemirror_mode": {
    "name": "ipython",
    "version": 3
   },
   "file_extension": ".py",
   "mimetype": "text/x-python",
   "name": "python",
   "nbconvert_exporter": "python",
   "pygments_lexer": "ipython3",
   "version": "3.8.5"
  }
 },
 "nbformat": 4,
 "nbformat_minor": 4
}
