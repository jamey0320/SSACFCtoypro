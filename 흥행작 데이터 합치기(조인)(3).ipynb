{
 "cells": [
  {
   "cell_type": "code",
   "execution_count": 1,
   "metadata": {},
   "outputs": [],
   "source": [
    "import pandas as pd"
   ]
  },
  {
   "cell_type": "code",
   "execution_count": 65,
   "metadata": {},
   "outputs": [],
   "source": [
    "for i in range(2010,2021):\n",
    "\n",
    "    info_year = pd.read_csv(f\"trend_watcha/trend_{i}_info.csv\", encoding='cp949')\n",
    "    rate_year = pd.read_csv(f\"trend_watcha/trend_{i}_wacha_rate.csv\", encoding='cp949')\n",
    "\n",
    "    info_year['연도'] = i\n",
    "    info_year = info_year.merge(rate_year, on = \"제목\")\n",
    "    info_rate = info_year[[\"제목\",\"연도\",\"장르\",\"제작국가\",\"왓챠평점\"]]\n",
    "    info_rate.to_csv(f\"trend_watcha_all/trend_{i}_info_rate.csv\", encoding = 'cp949')"
   ]
  },
  {
   "cell_type": "code",
   "execution_count": 66,
   "metadata": {},
   "outputs": [],
   "source": [
    "연도 = []\n",
    "for i in range(2010,2021):\n",
    "    연도.append(i)"
   ]
  },
  {
   "cell_type": "code",
   "execution_count": 73,
   "metadata": {},
   "outputs": [],
   "source": [
    "info_rate = []\n",
    "for i in range(2010,2021):\n",
    "    info_rate.append(f\"df{i}\")"
   ]
  },
  {
   "cell_type": "code",
   "execution_count": 76,
   "metadata": {},
   "outputs": [],
   "source": [
    "for i in range(11):\n",
    "    info_rate[i] = pd.read_csv(f\"trend_watcha_all/trend_{연도[i]}_info_rate.csv\", encoding = 'cp949')"
   ]
  },
  {
   "cell_type": "code",
   "execution_count": 80,
   "metadata": {},
   "outputs": [],
   "source": [
    "trend_info = pd.concat(info_rate)"
   ]
  },
  {
   "cell_type": "code",
   "execution_count": 81,
   "metadata": {},
   "outputs": [],
   "source": [
    "trend_info.to_csv(\"trend_watcha_all/trend_info_all.csv\", encoding = 'cp949')"
   ]
  },
  {
   "cell_type": "code",
   "execution_count": null,
   "metadata": {},
   "outputs": [],
   "source": []
  }
 ],
 "metadata": {
  "kernelspec": {
   "display_name": "Python 3",
   "language": "python",
   "name": "python3"
  },
  "language_info": {
   "codemirror_mode": {
    "name": "ipython",
    "version": 3
   },
   "file_extension": ".py",
   "mimetype": "text/x-python",
   "name": "python",
   "nbconvert_exporter": "python",
   "pygments_lexer": "ipython3",
   "version": "3.7.6"
  }
 },
 "nbformat": 4,
 "nbformat_minor": 4
}
