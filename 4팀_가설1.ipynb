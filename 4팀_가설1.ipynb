{
 "cells": [
  {
   "cell_type": "markdown",
   "metadata": {},
   "source": [
    "# 개요 / 가설"
   ]
  },
  {
   "cell_type": "markdown",
   "metadata": {},
   "source": [
    "연도별로 전체 박스오피스의 관객수와 매출액의 변화를 알아본다.\n",
    "\n",
    "평점이 높다면 관객수와 매출액이 높을 것이다. (흥행10걸 / 전체)"
   ]
  },
  {
   "cell_type": "markdown",
   "metadata": {},
   "source": [
    "# 데이터 수집"
   ]
  },
  {
   "cell_type": "code",
   "execution_count": 1,
   "metadata": {},
   "outputs": [],
   "source": [
    "import pandas as pd\n",
    "import os\n",
    "import matplotlib.pylab as plt\n",
    "import numpy as np\n",
    "import seaborn as sns"
   ]
  },
  {
   "cell_type": "code",
   "execution_count": 2,
   "metadata": {},
   "outputs": [],
   "source": [
    "수상작 = pd.read_csv(\"수상작_리뷰.csv\", sep=\",\", index_col='Unnamed: 0', encoding='cp949')\n",
    "흥행작 = pd.read_csv(\"1020흥행작.csv\", sep=\",\", index_col='Unnamed: 0', encoding='cp949')\n",
    "전체흥행작 = pd.read_csv(\"전체 박스오피스.csv\", sep=\",\", index_col='Unnamed: 0', encoding='cp949')"
   ]
  },
  {
   "cell_type": "markdown",
   "metadata": {},
   "source": [
    "# 전처리"
   ]
  },
  {
   "cell_type": "code",
   "execution_count": 3,
   "metadata": {},
   "outputs": [],
   "source": [
    "import matplotlib.font_manager as fm\n",
    "[(f.name, f.fname) for f in fm.fontManager.ttflist if 'Mal' in f.name]\n",
    "\n",
    "plt.rc('font', family=\"Malgun Gothic\")"
   ]
  },
  {
   "cell_type": "code",
   "execution_count": 4,
   "metadata": {
    "scrolled": true
   },
   "outputs": [
    {
     "data": {
      "text/html": [
       "<div>\n",
       "<style scoped>\n",
       "    .dataframe tbody tr th:only-of-type {\n",
       "        vertical-align: middle;\n",
       "    }\n",
       "\n",
       "    .dataframe tbody tr th {\n",
       "        vertical-align: top;\n",
       "    }\n",
       "\n",
       "    .dataframe thead th {\n",
       "        text-align: right;\n",
       "    }\n",
       "</style>\n",
       "<table border=\"1\" class=\"dataframe\">\n",
       "  <thead>\n",
       "    <tr style=\"text-align: right;\">\n",
       "      <th></th>\n",
       "      <th>제목</th>\n",
       "      <th>관객수</th>\n",
       "      <th>매출액</th>\n",
       "      <th>왓챠평점</th>\n",
       "      <th>네티즌평점</th>\n",
       "      <th>평론가평점</th>\n",
       "      <th>평균평점</th>\n",
       "    </tr>\n",
       "  </thead>\n",
       "  <tbody>\n",
       "    <tr>\n",
       "      <th>0</th>\n",
       "      <td>아바타</td>\n",
       "      <td>8101481</td>\n",
       "      <td>8.081990e+10</td>\n",
       "      <td>3.9</td>\n",
       "      <td>9.07</td>\n",
       "      <td>8.83</td>\n",
       "      <td>8.566667</td>\n",
       "    </tr>\n",
       "    <tr>\n",
       "      <th>1</th>\n",
       "      <td>아저씨</td>\n",
       "      <td>6153307</td>\n",
       "      <td>4.691262e+10</td>\n",
       "      <td>3.9</td>\n",
       "      <td>9.24</td>\n",
       "      <td>6.25</td>\n",
       "      <td>7.763333</td>\n",
       "    </tr>\n",
       "    <tr>\n",
       "      <th>2</th>\n",
       "      <td>인셉션</td>\n",
       "      <td>5818692</td>\n",
       "      <td>4.332849e+10</td>\n",
       "      <td>4.4</td>\n",
       "      <td>9.23</td>\n",
       "      <td>7.93</td>\n",
       "      <td>8.653333</td>\n",
       "    </tr>\n",
       "    <tr>\n",
       "      <th>3</th>\n",
       "      <td>의형제</td>\n",
       "      <td>5401659</td>\n",
       "      <td>4.005799e+10</td>\n",
       "      <td>3.5</td>\n",
       "      <td>8.87</td>\n",
       "      <td>7.55</td>\n",
       "      <td>7.806667</td>\n",
       "    </tr>\n",
       "    <tr>\n",
       "      <th>4</th>\n",
       "      <td>아이언맨 2</td>\n",
       "      <td>4416203</td>\n",
       "      <td>3.256592e+10</td>\n",
       "      <td>4.0</td>\n",
       "      <td>7.37</td>\n",
       "      <td>5.47</td>\n",
       "      <td>6.946667</td>\n",
       "    </tr>\n",
       "  </tbody>\n",
       "</table>\n",
       "</div>"
      ],
      "text/plain": [
       "       제목      관객수           매출액  왓챠평점  네티즌평점  평론가평점      평균평점\n",
       "0     아바타  8101481  8.081990e+10   3.9   9.07   8.83  8.566667\n",
       "1     아저씨  6153307  4.691262e+10   3.9   9.24   6.25  7.763333\n",
       "2     인셉션  5818692  4.332849e+10   4.4   9.23   7.93  8.653333\n",
       "3     의형제  5401659  4.005799e+10   3.5   8.87   7.55  7.806667\n",
       "4  아이언맨 2  4416203  3.256592e+10   4.0   7.37   5.47  6.946667"
      ]
     },
     "execution_count": 4,
     "metadata": {},
     "output_type": "execute_result"
    }
   ],
   "source": [
    "흥행작_요약 = 흥행작[['제목', '관객수', '매출액', '왓챠평점', '네티즌평점', '평론가평점']]\n",
    "흥행작_요약 = 흥행작_요약.dropna()\n",
    "흥행작_요약['평균평점'] = (흥행작_요약['왓챠평점']*2 + 흥행작_요약['네티즌평점'] + 흥행작_요약['평론가평점']) / 3\n",
    "흥행작_요약.head()"
   ]
  },
  {
   "cell_type": "code",
   "execution_count": 5,
   "metadata": {},
   "outputs": [
    {
     "data": {
      "text/html": [
       "<div>\n",
       "<style scoped>\n",
       "    .dataframe tbody tr th:only-of-type {\n",
       "        vertical-align: middle;\n",
       "    }\n",
       "\n",
       "    .dataframe tbody tr th {\n",
       "        vertical-align: top;\n",
       "    }\n",
       "\n",
       "    .dataframe thead th {\n",
       "        text-align: right;\n",
       "    }\n",
       "</style>\n",
       "<table border=\"1\" class=\"dataframe\">\n",
       "  <thead>\n",
       "    <tr style=\"text-align: right;\">\n",
       "      <th></th>\n",
       "      <th>연도</th>\n",
       "      <th>관객수</th>\n",
       "      <th>매출액</th>\n",
       "    </tr>\n",
       "  </thead>\n",
       "  <tbody>\n",
       "    <tr>\n",
       "      <th>0</th>\n",
       "      <td>2010</td>\n",
       "      <td>142680895</td>\n",
       "      <td>1.120222e+08</td>\n",
       "    </tr>\n",
       "    <tr>\n",
       "      <th>1</th>\n",
       "      <td>2011</td>\n",
       "      <td>153677914</td>\n",
       "      <td>1.191893e+08</td>\n",
       "    </tr>\n",
       "    <tr>\n",
       "      <th>2</th>\n",
       "      <td>2012</td>\n",
       "      <td>188563031</td>\n",
       "      <td>1.410208e+08</td>\n",
       "    </tr>\n",
       "    <tr>\n",
       "      <th>3</th>\n",
       "      <td>2013</td>\n",
       "      <td>206937072</td>\n",
       "      <td>1.509100e+08</td>\n",
       "    </tr>\n",
       "    <tr>\n",
       "      <th>4</th>\n",
       "      <td>2014</td>\n",
       "      <td>207556289</td>\n",
       "      <td>1.612804e+08</td>\n",
       "    </tr>\n",
       "    <tr>\n",
       "      <th>5</th>\n",
       "      <td>2015</td>\n",
       "      <td>210020013</td>\n",
       "      <td>1.661882e+08</td>\n",
       "    </tr>\n",
       "    <tr>\n",
       "      <th>6</th>\n",
       "      <td>2016</td>\n",
       "      <td>207664033</td>\n",
       "      <td>1.673701e+08</td>\n",
       "    </tr>\n",
       "    <tr>\n",
       "      <th>7</th>\n",
       "      <td>2017</td>\n",
       "      <td>210880902</td>\n",
       "      <td>1.689751e+08</td>\n",
       "    </tr>\n",
       "    <tr>\n",
       "      <th>8</th>\n",
       "      <td>2018</td>\n",
       "      <td>209192440</td>\n",
       "      <td>1.759987e+08</td>\n",
       "    </tr>\n",
       "    <tr>\n",
       "      <th>9</th>\n",
       "      <td>2019</td>\n",
       "      <td>218947998</td>\n",
       "      <td>1.857006e+08</td>\n",
       "    </tr>\n",
       "    <tr>\n",
       "      <th>10</th>\n",
       "      <td>2020</td>\n",
       "      <td>55565909</td>\n",
       "      <td>4.801476e+07</td>\n",
       "    </tr>\n",
       "  </tbody>\n",
       "</table>\n",
       "</div>"
      ],
      "text/plain": [
       "      연도        관객수           매출액\n",
       "0   2010  142680895  1.120222e+08\n",
       "1   2011  153677914  1.191893e+08\n",
       "2   2012  188563031  1.410208e+08\n",
       "3   2013  206937072  1.509100e+08\n",
       "4   2014  207556289  1.612804e+08\n",
       "5   2015  210020013  1.661882e+08\n",
       "6   2016  207664033  1.673701e+08\n",
       "7   2017  210880902  1.689751e+08\n",
       "8   2018  209192440  1.759987e+08\n",
       "9   2019  218947998  1.857006e+08\n",
       "10  2020   55565909  4.801476e+07"
      ]
     },
     "execution_count": 5,
     "metadata": {},
     "output_type": "execute_result"
    }
   ],
   "source": [
    "전체흥행작_요약 = pd.pivot_table(전체흥행작, index=['연도'], aggfunc = 'sum')\n",
    "전체흥행작_요약['매출액'] = 전체흥행작_요약['매출액']/10000\n",
    "전체흥행작_요약 = 전체흥행작_요약.reset_index()\n",
    "전체흥행작_요약"
   ]
  },
  {
   "cell_type": "markdown",
   "metadata": {},
   "source": [
    "# 분석"
   ]
  },
  {
   "cell_type": "code",
   "execution_count": 6,
   "metadata": {
    "scrolled": true
   },
   "outputs": [
    {
     "data": {
      "text/plain": [
       "array([[1.        , 0.39500396],\n",
       "       [0.39500396, 1.        ]])"
      ]
     },
     "execution_count": 6,
     "metadata": {},
     "output_type": "execute_result"
    }
   ],
   "source": [
    "#1. 평균평점 <-> 관객수의 상관계수\n",
    "np.corrcoef(흥행작_요약['평균평점'],  흥행작_요약['관객수'])"
   ]
  },
  {
   "cell_type": "markdown",
   "metadata": {},
   "source": [
    "0.4 수준의 상관계수로, 관객수가 평균평점에 좌지우지 되는 수준은 아니다.\n",
    "하지만, 실제로 영화커뮤니티, 네티즌, 전문가의 평점은 관객수와 무관하지 않다는 점을 확인할 수 있다."
   ]
  },
  {
   "cell_type": "code",
   "execution_count": 7,
   "metadata": {},
   "outputs": [
    {
     "data": {
      "text/plain": [
       "array([[1.        , 0.48127275],\n",
       "       [0.48127275, 1.        ]])"
      ]
     },
     "execution_count": 7,
     "metadata": {},
     "output_type": "execute_result"
    }
   ],
   "source": [
    "#2. 왓챠평점 <-> 관객수의 상관계수\n",
    "np.corrcoef(흥행작_요약['왓챠평점'],  흥행작_요약['관객수'])"
   ]
  },
  {
   "cell_type": "markdown",
   "metadata": {},
   "source": [
    "왓챠평점과 관객수의 상관계수는 0.5에 근접한 0.4812로, 평균평점보다도 흥행도와 큰 관련성을 띄는 것으로 파악되었다. 왓챠피디아의 서비스가 관심사와 평점 등을 토대로 다른 유저에게 영화를 추천해주는 서비스이다보니, 실제로 입소문을 많이 타는 영화에 평점이 더 높게 기록되었을 것으로 추측된다."
   ]
  },
  {
   "cell_type": "code",
   "execution_count": 8,
   "metadata": {},
   "outputs": [
    {
     "data": {
      "text/plain": [
       "array([[1.        , 0.37023845],\n",
       "       [0.37023845, 1.        ]])"
      ]
     },
     "execution_count": 8,
     "metadata": {},
     "output_type": "execute_result"
    }
   ],
   "source": [
    "#3. 네티즌평점 <-> 관객수의 상관계수\n",
    "np.corrcoef(흥행작_요약['네티즌평점'],  흥행작_요약['관객수'])"
   ]
  },
  {
   "cell_type": "code",
   "execution_count": 9,
   "metadata": {},
   "outputs": [
    {
     "data": {
      "text/plain": [
       "array([[1.        , 0.15229267],\n",
       "       [0.15229267, 1.        ]])"
      ]
     },
     "execution_count": 9,
     "metadata": {},
     "output_type": "execute_result"
    }
   ],
   "source": [
    "#4. 평론가평점 <-> 관객수의 상관계수\n",
    "np.corrcoef(흥행작_요약['평론가평점'],  흥행작_요약['관객수'])"
   ]
  },
  {
   "cell_type": "markdown",
   "metadata": {},
   "source": [
    "반면 평론가평점과 관객수의 상관계수는 0.1522로, 관객수가 평론가평점과 큰 상관이 없는것으로 보여진다. 그 이유는 평론가평점은 영화의 예술성, 기술 등을 기준으로 작성되며, 다른 평점 기준에 비해 평점이 낮게 책정되는 특성 때문으로 보인다."
   ]
  },
  {
   "cell_type": "markdown",
   "metadata": {},
   "source": [
    "# 시각화"
   ]
  },
  {
   "cell_type": "code",
   "execution_count": 10,
   "metadata": {},
   "outputs": [
    {
     "data": {
      "image/png": "[encoded data removed]",
      "text/plain": [
       "<Figure size 864x432 with 1 Axes>"
      ]
     },
     "metadata": {
      "needs_background": "light"
     },
     "output_type": "display_data"
    }
   ],
   "source": [
    "#0. 각 연도별 전체 박스오피스 관객수와 매출액의 변화 추이 (매출/10000)\n",
    "\n",
    "fig, ax = plt.subplots(figsize=(12, 6))\n",
    "\n",
    "plt.plot(전체흥행작_요약['연도'], 전체흥행작_요약['관객수'], label='관객')\n",
    "plt.plot(전체흥행작_요약['연도'], 전체흥행작_요약['매출액'], label='매출')\n",
    "plt.legend()\n",
    "\n",
    "plt.grid()\n",
    "plt.xlabel(\"연도\")\n",
    "plt.legend()\n",
    "plt.show()"
   ]
  },
  {
   "cell_type": "code",
   "execution_count": 11,
   "metadata": {},
   "outputs": [
    {
     "data": {
      "image/png": "[encoded data removed]",
      "text/plain": [
       "<Figure size 1008x576 with 4 Axes>"
      ]
     },
     "metadata": {
      "needs_background": "light"
     },
     "output_type": "display_data"
    }
   ],
   "source": [
    "#1. 평균평점 / 왓차평점 / 네티즌평점 / 평론가평점 <-> 관객수의 상관관계 시각화\n",
    "\n",
    "fig, axes = plt.subplots(nrows = 2, ncols=2, figsize=(14,8))\n",
    "\n",
    "sns.regplot( x = 흥행작_요약[\"관객수\"], y =흥행작_요약[\"평균평점\"], fit_reg = False, ax=axes[0,0])\n",
    "sns.regplot( x = 흥행작_요약[\"관객수\"], y =흥행작_요약[\"왓챠평점\"], fit_reg = False, ax=axes[0,1])\n",
    "sns.regplot( x = 흥행작_요약[\"관객수\"], y =흥행작_요약[\"네티즌평점\"], fit_reg = False, ax=axes[1,0])\n",
    "sns.regplot(x = 흥행작_요약[\"관객수\"], y =흥행작_요약[\"평론가평점\"], fit_reg = False, ax=axes[1,1])\n",
    "\n",
    "axes[0,0].title.set_text(\"평균평점\")\n",
    "axes[0,1].title.set_text(\"왓챠평점\")\n",
    "axes[1,0].title.set_text(\"네티즌평점\")\n",
    "axes[1,1].title.set_text(\"평론가평점\")\n",
    "\n",
    "fig.tight_layout()\n",
    "\n",
    "plt.show()"
   ]
  }
 ],
 "metadata": {
  "kernelspec": {
   "display_name": "Python 3",
   "language": "python",
   "name": "python3"
  },
  "language_info": {
   "codemirror_mode": {
    "name": "ipython",
    "version": 3
   },
   "file_extension": ".py",
   "mimetype": "text/x-python",
   "name": "python",
   "nbconvert_exporter": "python",
   "pygments_lexer": "ipython3",
   "version": "3.8.5"
  }
 },
 "nbformat": 4,
 "nbformat_minor": 4
}
