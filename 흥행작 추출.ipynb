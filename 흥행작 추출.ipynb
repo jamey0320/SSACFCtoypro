{
 "cells": [
  {
   "cell_type": "code",
   "execution_count": 29,
   "metadata": {},
   "outputs": [],
   "source": [
    "import requests\n",
    "import time\n",
    "import pandas as pd\n",
    "from pandas import DataFrame\n",
    "\n",
    "key = \"2833ab9d3fb229573f76e13d57eda9fa\""
   ]
  },
  {
   "cell_type": "code",
   "execution_count": 30,
   "metadata": {},
   "outputs": [],
   "source": [
    "url = \"http://www.kobis.or.kr/kobisopenapi/webservice/rest/boxoffice/searchDailyBoxOfficeList.json\"\n",
    "dfall = DataFrame()\n",
    "def scrap(start, end):\n",
    "    global dfall\n",
    "    for i in range(start, end):\n",
    "        params = {\n",
    "            \"key\": key,\n",
    "            \"targetDt\" : i\n",
    "        }\n",
    "    \n",
    "        resp = requests.get(url, params=params)\n",
    "        data = resp.json()\n",
    "    \n",
    "        df = DataFrame(data['boxOfficeResult']['dailyBoxOfficeList'])\n",
    "        dfall = dfall.append(df)\n",
    "    \n",
    "    dfall['salesAmt'] = pd.to_numeric(dfall['salesAmt'])\n",
    "    dfall['audiCnt'] = pd.to_numeric(dfall['audiCnt'])\n",
    "    dfall['scrnCnt'] = pd.to_numeric(dfall['scrnCnt'])\n",
    "    dfall['showCnt'] = pd.to_numeric(dfall['showCnt'])"
   ]
  },
  {
   "cell_type": "code",
   "execution_count": 31,
   "metadata": {},
   "outputs": [],
   "source": [
    "def scrap_year(year):\n",
    "    global dfall\n",
    "    year = str(year)\n",
    "    scrap(int(year+\"0101\"), int(year+\"0132\"))\n",
    "    time.sleep(1)\n",
    "    scrap(int(year+\"0201\"), int(year+\"0229\"))\n",
    "    time.sleep(1)\n",
    "    scrap(int(year+\"0301\"), int(year+\"0332\"))\n",
    "    time.sleep(1)\n",
    "    print('check1')\n",
    "    scrap(int(year+\"0401\"), int(year+\"0431\"))\n",
    "    time.sleep(1)\n",
    "    scrap(int(year+\"0501\"), int(year+\"0532\"))\n",
    "    time.sleep(1)\n",
    "    scrap(int(year+\"0601\"), int(year+\"0631\"))\n",
    "    time.sleep(1)\n",
    "    print('check2')\n",
    "    scrap(int(year+\"0701\"), int(year+\"0732\"))\n",
    "    time.sleep(1)\n",
    "    scrap(int(year+\"0801\"), int(year+\"0832\"))\n",
    "    time.sleep(1)\n",
    "    scrap(int(year+\"0901\"), int(year+\"0931\"))\n",
    "    time.sleep(1)\n",
    "    print('check3')\n",
    "    scrap(int(year+\"1001\"), int(year+\"1032\"))\n",
    "    time.sleep(1)\n",
    "    scrap(int(year+\"1101\"), int(year+\"1131\"))\n",
    "    time.sleep(1)\n",
    "    scrap(int(year+\"1201\"), int(year+\"1232\"))\n",
    "    \n",
    "    dfall = dfall.drop(['rnum', 'rank', 'rankInten', 'rankOldAndNew', 'salesShare', 'salesInten', 'salesChange', 'salesAcc', 'audiInten', 'audiChange', 'audiAcc'], axis=1)\n",
    "    dfall.columns = ['코드', '제목', '개봉일자', '매출액', '관객수', '스크린수', '상영횟수']\n",
    "\n",
    "    dfall = dfall.pivot_table(dfall, index = ['코드', '제목', '개봉일자'], aggfunc = 'sum')\n",
    "    \n",
    "    dfall = dfall.sort_values(by=['관객수'], axis=0, ascending=False)\n",
    "    dfall = dfall.reset_index()"
   ]
  },
  {
   "cell_type": "code",
   "execution_count": 34,
   "metadata": {},
   "outputs": [
    {
     "name": "stdout",
     "output_type": "stream",
     "text": [
      "check1\n",
      "check2\n",
      "check3\n",
      "done!\n",
      "check1\n",
      "check2\n",
      "check3\n",
      "done!\n",
      "check1\n",
      "check2\n",
      "check3\n",
      "done!\n"
     ]
    }
   ],
   "source": [
    "for i in range(2012, 2009, -1):\n",
    "    scrap_year(i)\n",
    "    dfall.to_csv('trend_{}_2.csv'.format(i))\n",
    "    dfall[0:10].to_csv('trend_{}.csv'.format(i))\n",
    "    dfall = DataFrame()\n",
    "    print('done!')"
   ]
  }
 ],
 "metadata": {
  "kernelspec": {
   "display_name": "Python 3",
   "language": "python",
   "name": "python3"
  },
  "language_info": {
   "codemirror_mode": {
    "name": "ipython",
    "version": 3
   },
   "file_extension": ".py",
   "mimetype": "text/x-python",
   "name": "python",
   "nbconvert_exporter": "python",
   "pygments_lexer": "ipython3",
   "version": "3.8.5"
  }
 },
 "nbformat": 4,
 "nbformat_minor": 4
}
